{
 "cells": [
  {
   "cell_type": "code",
   "execution_count": 9,
   "id": "8f594b4a",
   "metadata": {
    "ExecuteTime": {
     "end_time": "2024-01-08T18:16:56.379379Z",
     "start_time": "2024-01-08T18:16:56.374467Z"
    }
   },
   "outputs": [],
   "source": [
    "import time\n",
    "import openpyxl\n",
    "import requests\n",
    "import pandas as pd\n",
    "from bs4 import BeautifulSoup\n",
    "from selenium import webdriver\n",
    "import copy\n",
    "import zhconv\n",
    "from transformers import BertTokenizer, BertModel \n",
    "from py2neo import Node, Relationship, Graph, NodeMatcher, RelationshipMatcher,Subgraph"
   ]
  },
  {
   "cell_type": "markdown",
   "id": "7da8b6cd",
   "metadata": {
    "code_folding": []
   },
   "source": [
    "### wikipedia"
   ]
  },
  {
   "cell_type": "code",
   "execution_count": 10,
   "id": "243244da",
   "metadata": {
    "ExecuteTime": {
     "end_time": "2023-05-07T06:25:56.970643Z",
     "start_time": "2023-05-07T06:25:48.789371Z"
    }
   },
   "outputs": [],
   "source": [
    "driver = webdriver.Chrome()\n",
    "url = 'https://zh.wikipedia.org/wiki/Category:%E4%BA%BA%E5%B7%A5%E6%99%BA%E8%83%BD'\n",
    "driver.get(url)\n",
    "time.sleep(2)\n",
    "\n",
    "Hierarchy_list=[]\n",
    "wait_list=[]\n",
    "wait_list.append(['https://zh.wikipedia.org/wiki/Category:%E4%BA%BA%E5%B7%A5%E6%99%BA%E8%83%BD','人工智能'])"
   ]
  },
  {
   "cell_type": "code",
   "execution_count": 21,
   "id": "54956de5",
   "metadata": {
    "ExecuteTime": {
     "end_time": "2024-01-08T18:17:59.626193Z",
     "start_time": "2024-01-08T18:17:59.620467Z"
    }
   },
   "outputs": [],
   "source": [
    "visited=[]\n",
    "def get_Hierarchy(wait_list):\n",
    "    if len(wait_list)==0:\n",
    "        return\n",
    "\n",
    "    wait_list_=[]\n",
    "    for w_i in wait_list:\n",
    "        father = w_i[1]\n",
    "        visited.append(father)\n",
    "        url = w_i[0]\n",
    "        driver.get(url)\n",
    "        \n",
    "        sub=driver.find_elements_by_xpath('//*[@id=\"mw-subcategories\"]/div/div/div/ul/li/div/div/a')\n",
    "        for s_i in sub:\n",
    "            son = s_i.text\n",
    "            if son in Visited:\n",
    "                continue\n",
    "            else:\n",
    "                wait_list_.append([s_i.get_attribute('href'),s_i.text])\n",
    "                Hierarchy_list.append([father,son])\n",
    "                \n",
    "        time.sleep(5)\n",
    "        \n",
    "    get_Hierarchy(wait_list_)"
   ]
  },
  {
   "cell_type": "code",
   "execution_count": 26,
   "id": "daccfc3f",
   "metadata": {
    "ExecuteTime": {
     "end_time": "2024-01-08T18:18:07.340045Z",
     "start_time": "2024-01-08T18:18:07.335233Z"
    }
   },
   "outputs": [],
   "source": [
    "get_Hierarchy(wait_list)"
   ]
  },
  {
   "cell_type": "code",
   "execution_count": 27,
   "id": "ef9a4e08",
   "metadata": {
    "ExecuteTime": {
     "end_time": "2024-01-08T18:18:16.838990Z",
     "start_time": "2024-01-08T18:18:16.834072Z"
    },
    "code_folding": []
   },
   "outputs": [],
   "source": [
    "# 繁体处理\n",
    "name=['father','son']\n",
    "Hierarchy_df=pd.DataFrame(columns=name,data=Hierarchy_list)\n",
    "\n",
    "\n",
    "for i in range(len(hy_Hierarchy)):\n",
    "    Hierarchy_df.iloc[i,0] = zhconv.convert(Hierarchy_df.iloc[i,0], 'zh-cn')\n",
    "    Hierarchy_df.iloc[i,1] = zhconv.convert(Hierarchy_df.iloc[i,1], 'zh-cn')  \n",
    "    \n",
    "Hierarchy_df.to_csv('./DATA/Hierarchical.csv',encoding=\"utf_8_sig\")"
   ]
  },
  {
   "cell_type": "markdown",
   "id": "134a0b0c",
   "metadata": {},
   "source": [
    "### Ontology_Problems"
   ]
  },
  {
   "cell_type": "code",
   "execution_count": 28,
   "id": "f88cd8af",
   "metadata": {
    "ExecuteTime": {
     "end_time": "2024-01-08T18:18:22.062906Z",
     "start_time": "2024-01-08T18:18:22.057659Z"
    }
   },
   "outputs": [],
   "source": [
    "Hierarchy_df = pd.read_csv('./DATA/Hierarchical.csv',index_col=0).reset_index(drop=True)"
   ]
  },
  {
   "cell_type": "code",
   "execution_count": 29,
   "id": "03cbef32",
   "metadata": {
    "ExecuteTime": {
     "end_time": "2024-01-08T18:18:22.258737Z",
     "start_time": "2024-01-08T18:18:22.254047Z"
    }
   },
   "outputs": [],
   "source": [
    "problem = pd.read_csv('./DATA/problems.csv')"
   ]
  },
  {
   "cell_type": "code",
   "execution_count": 30,
   "id": "07b5e939",
   "metadata": {
    "ExecuteTime": {
     "end_time": "2024-01-08T18:18:22.424986Z",
     "start_time": "2024-01-08T18:18:22.420515Z"
    }
   },
   "outputs": [],
   "source": [
    "pretrained_weights=\"../bert-base/bert-base-chinese/\"\n",
    "model = BertModel.from_pretrained(pretrained_weights)\n",
    "tokenizer = BertTokenizer.from_pretrained(pretrained_weights)"
   ]
  },
  {
   "cell_type": "code",
   "execution_count": 31,
   "id": "2e6b15b7",
   "metadata": {
    "ExecuteTime": {
     "end_time": "2024-01-08T18:18:22.581059Z",
     "start_time": "2024-01-08T18:18:22.575622Z"
    }
   },
   "outputs": [],
   "source": [
    "def corr(sentence_0,sentence_1):\n",
    "    input_ids_0 = torch.tensor(tokenizer.encode(sentence_0)).unsqueeze(0)\n",
    "    outputs_0 = model(input_ids_0)\n",
    "    word_o = outputs_0[0][0][1:len(sentence_0)+1].mean(axis=1).detach().numpy()\n",
    "#     print(word_o)\n",
    "    \n",
    "    input_ids_0 = torch.tensor(tokenizer.encode(sentence_1)).unsqueeze(0)\n",
    "    outputs_1 = model(input_ids_0)\n",
    "    word_p = outputs_1[0][0][1:len(sentence_1)+1].mean(axis=1).detach().numpy()\n",
    "    \n",
    "    cos_sim1 = word_p.dot(word_o) / (np.linalg.norm(word_p) * np.linalg.norm(word_o))\n",
    "    \n",
    "    return cos_sim1"
   ]
  },
  {
   "cell_type": "code",
   "execution_count": 32,
   "id": "68af1220",
   "metadata": {
    "ExecuteTime": {
     "end_time": "2024-01-08T18:18:22.754380Z",
     "start_time": "2024-01-08T18:18:22.749930Z"
    }
   },
   "outputs": [],
   "source": [
    "connected=[[]]"
   ]
  },
  {
   "cell_type": "code",
   "execution_count": 33,
   "id": "a10ac445",
   "metadata": {
    "ExecuteTime": {
     "end_time": "2024-01-08T18:18:23.202424Z",
     "start_time": "2024-01-08T18:18:23.197456Z"
    }
   },
   "outputs": [],
   "source": [
    "for p in problem:\n",
    "    cos=[]\n",
    "    input_p = torch.tensor(tokenizer.encode(p)).unsqueeze(0)\n",
    "    outputs_p = model(input_p)\n",
    "    word_p = outputs_p[0][0][1:len(p)+1].sum(axis=0).detach().numpy()\n",
    "    \n",
    "    for o in Ontology_text:\n",
    "        input_o = torch.tensor(tokenizer.encode(o)).unsqueeze(0)\n",
    "        outputs_o = model(input_o)\n",
    "        word_o = outputs_o[0][0][1:len(o)+1].sum(axis=0).detach().numpy()\n",
    "        \n",
    "        cos_sim1 = word_p.dot(word_o) / (np.linalg.norm(word_p) * np.linalg.norm(word_o))\n",
    "        cos.append(cos_sim1)\n",
    "    \n",
    "    max_value=max(cos)\n",
    "    max_index = [i for i,j in enumerate(cos) if j==max_value]\n",
    "    \n",
    "    connected.append([p,np.array(Ontology_text)[max_index].tolist()])"
   ]
  },
  {
   "cell_type": "code",
   "execution_count": 34,
   "id": "81839b22",
   "metadata": {
    "ExecuteTime": {
     "end_time": "2024-01-08T18:18:23.578630Z",
     "start_time": "2024-01-08T18:18:23.573587Z"
    }
   },
   "outputs": [],
   "source": [
    "on = pd.DataFrame(data=connected)\n",
    "con.to_csv('./DATA/connected.csv',encoding='utf_8_sig')"
   ]
  },
  {
   "cell_type": "code",
   "execution_count": null,
   "id": "7c138358",
   "metadata": {},
   "outputs": [],
   "source": []
  }
 ],
 "metadata": {
  "kernelspec": {
   "display_name": "Python 3 (ipykernel)",
   "language": "python",
   "name": "python3"
  },
  "language_info": {
   "codemirror_mode": {
    "name": "ipython",
    "version": 3
   },
   "file_extension": ".py",
   "mimetype": "text/x-python",
   "name": "python",
   "nbconvert_exporter": "python",
   "pygments_lexer": "ipython3",
   "version": "3.11.3"
  },
  "varInspector": {
   "cols": {
    "lenName": 16,
    "lenType": 16,
    "lenVar": 40
   },
   "kernels_config": {
    "python": {
     "delete_cmd_postfix": "",
     "delete_cmd_prefix": "del ",
     "library": "var_list.py",
     "varRefreshCmd": "print(var_dic_list())"
    },
    "r": {
     "delete_cmd_postfix": ") ",
     "delete_cmd_prefix": "rm(",
     "library": "var_list.r",
     "varRefreshCmd": "cat(var_dic_list()) "
    }
   },
   "types_to_exclude": [
    "module",
    "function",
    "builtin_function_or_method",
    "instance",
    "_Feature"
   ],
   "window_display": false
  }
 },
 "nbformat": 4,
 "nbformat_minor": 5
}
