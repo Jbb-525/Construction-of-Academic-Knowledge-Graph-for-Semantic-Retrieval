{
 "cells": [
  {
   "cell_type": "code",
   "execution_count": 2,
   "id": "61e6ed88",
   "metadata": {
    "ExecuteTime": {
     "end_time": "2024-01-08T09:31:22.019293Z",
     "start_time": "2024-01-08T09:31:19.995542Z"
    }
   },
   "outputs": [],
   "source": [
    "import requests\n",
    "import time\n",
    "from selenium import webdriver\n",
    "from bs4 import BeautifulSoup\n",
    "import openpyxl"
   ]
  },
  {
   "cell_type": "code",
   "execution_count": 4,
   "id": "c617c900",
   "metadata": {
    "ExecuteTime": {
     "end_time": "2024-01-08T12:00:08.790666Z",
     "start_time": "2024-01-08T12:00:08.786320Z"
    }
   },
   "outputs": [],
   "source": [
    "# 前序搜索条件的录入使用webdriver\n",
    "driver = webdriver.Chrome()\n",
    "driver.get(\"https://kns.cnki.net/kns8/AdvSearch\")  # 这个直接就是高级检索的网页\n",
    "time.sleep(2)\n",
    "\n",
    "# advanced_search = driver.find_element_by_class_name('btn-grade-search')\n",
    "# advanced_search.click()  # 跳转进入高级检索，后期可维护\n",
    "# time.sleep(1)"
   ]
  },
  {
   "cell_type": "code",
   "execution_count": 72,
   "id": "4b57b3b5",
   "metadata": {
    "ExecuteTime": {
     "end_time": "2023-02-11T07:30:05.914892Z",
     "start_time": "2023-02-11T07:30:05.862249Z"
    },
    "collapsed": true
   },
   "outputs": [
    {
     "name": "stderr",
     "output_type": "stream",
     "text": [
      "<ipython-input-72-5886a76b1b75>:1: DeprecationWarning: find_elements_by_xpath is deprecated. Please use find_elements(by=By.XPATH, value=xpath) instead\n",
      "  cssci=driver.find_elements_by_xpath('//*[@id=\"JournalSourceType\"]/label[5]')\n"
     ]
    }
   ],
   "source": [
    "# beida=driver.find_elements_by_xpath('//*[@id=\"JournalSourceType\"]/label[4]')\n",
    "# beida[0].click()\n",
    "# cssci=driver.find_elements_by_xpath('//*[@id=\"JournalSourceType\"]/label[5]')\n",
    "# cssci[0].click()\n",
    "# cscd=driver.find_elements_by_xpath('//*[@id=\"JournalSourceType\"]/label[6]')\n",
    "# cscd[0].click()\n",
    "# ami=driver.find_elements_by_xpath('//*[@id=\"JournalSourceType\"]/label[7]')\n",
    "# ami[0].click()"
   ]
  },
  {
   "cell_type": "code",
   "execution_count": 1,
   "id": "cc2f86b9",
   "metadata": {
    "ExecuteTime": {
     "end_time": "2024-01-08T12:03:16.330472Z",
     "start_time": "2024-01-08T12:03:16.326392Z"
    }
   },
   "outputs": [],
   "source": [
    "source_list=['中国图像图形学报','中文信息学报','模式识别与人工智能','计算机应用','计算机辅助设计与图形学学报']"
   ]
  },
  {
   "cell_type": "code",
   "execution_count": 210,
   "id": "2fbb0388",
   "metadata": {
    "ExecuteTime": {
     "end_time": "2023-03-30T17:42:08.550135Z",
     "start_time": "2023-03-30T17:42:08.491635Z"
    }
   },
   "outputs": [
    {
     "name": "stderr",
     "output_type": "stream",
     "text": [
      "<ipython-input-210-038709a03204>:2: DeprecationWarning: find_elements_by_xpath is deprecated. Please use find_elements(by=By.XPATH, value=xpath) instead\n",
      "  paper_add = driver.find_elements_by_xpath('//*[@id=\"gridTable\"]/table/tbody')\n",
      "<ipython-input-210-038709a03204>:3: DeprecationWarning: find_elements_by_xpath is deprecated. Please use find_elements(by=By.XPATH, value=xpath) instead\n",
      "  name = driver.find_elements_by_xpath('//td[@class=\"name\"]')\n",
      "<ipython-input-210-038709a03204>:4: DeprecationWarning: find_elements_by_xpath is deprecated. Please use find_elements(by=By.XPATH, value=xpath) instead\n",
      "  date = driver.find_elements_by_xpath('//td[@class=\"date\"]')\n",
      "<ipython-input-210-038709a03204>:5: DeprecationWarning: find_elements_by_xpath is deprecated. Please use find_elements(by=By.XPATH, value=xpath) instead\n",
      "  author = driver.find_elements_by_xpath('//td[@class=\"author\"]')\n",
      "<ipython-input-210-038709a03204>:6: DeprecationWarning: find_elements_by_xpath is deprecated. Please use find_elements(by=By.XPATH, value=xpath) instead\n",
      "  source = driver.find_elements_by_xpath('//td[@class=\"source\"]')\n"
     ]
    }
   ],
   "source": [
    "for i in range(len(soource_list)):\n",
    "    source=driver.find_elements_by_xpath('//*[@id=\"gradetxt\"]/dd[3]/div[2]/input')\n",
    "    source[0].send_keys(str(source_list[i]))\n",
    "    \n",
    "    search=driver.find_elements_by_xpath('/html/body/div[2]/div/div[2]/div/div[1]/div[1]/div[2]/div[2]/input')\n",
    "    search[0].click()\n",
    "    \n",
    "    date=driver.find_elements_by_xpath('//*[@id=\"orderList\"]/li[2]')\n",
    "    date[0].click()\n",
    "    \n",
    "    res = driver.find_elements_by_xpath('//*[@id=\"countPageDiv\"]/span[1]/em')\n",
    "    res_unm=res[0].text\n",
    "\n",
    "    # 去除千分位的逗号\n",
    "    num_results = int(res_unm.replace(\",\", '')) \n",
    "    num_pages = int(num_results / 20) + 1\n",
    "#     print(f\"共找到 {res_unm} 条结果, {num_pages} 页\")\n",
    "    \n",
    "    data=[]\n",
    "    for _ in range(num_pages):\n",
    "        paper_add = driver.find_elements_by_xpath('//*[@id=\"gridTable\"]/table/tbody')\n",
    "        name = driver.find_elements_by_xpath('//td[@class=\"name\"]')\n",
    "        date = driver.find_elements_by_xpath('//td[@class=\"date\"]')\n",
    "        author = driver.find_elements_by_xpath('//td[@class=\"author\"]')\n",
    "        source = driver.find_elements_by_xpath('//td[@class=\"source\"]')\n",
    "    \n",
    "        if (date[-1].text >= '2019-01-01'):\n",
    "            for j in range(20):\n",
    "                data.append([name[j].text,date[j].text,author[j].text,source[j].text])\n",
    "\n",
    "            turn_page = driver.find_element_by_class_name('pages').find_elements_by_tag_name('a')[-1]\n",
    "            turn_page.click()\n",
    "            time.sleep(5)\n",
    "        else:\n",
    "            break\n",
    "            \n",
    "    wb = openpyxl.load_workbook('C://Users//JIBINBIN//Desktop//data.xlsx')\n",
    "    sheet = wb[str(source_list[i])]\n",
    "    ColumnName = ['name','date','author','source']\n",
    "    sheet.append(ColumnName)\n",
    "    \n",
    "    for i in range(len(data)):\n",
    "        sheet.append(data[i])\n",
    "    \n",
    "    wb.save('C://Users//JIBINBIN//Desktop//data.xlsx')"
   ]
  },
  {
   "cell_type": "code",
   "execution_count": null,
   "id": "85702b48",
   "metadata": {
    "ExecuteTime": {
     "end_time": "2023-03-30T17:35:35.136176Z",
     "start_time": "2023-03-30T17:35:34.541Z"
    },
    "code_folding": []
   },
   "outputs": [],
   "source": [
    "# # 抓取页面详情的信息，存入excel\n",
    "# for address in url_list_:\n",
    "#     res = requests.get(address, headers=headers)\n",
    "#     get_page = BeautifulSoup(res.text, 'html.parser')\n",
    "#     append_list = []\n",
    "# #     title = get_page.find('h1').text\n",
    "# #     append_list.append(title)\n",
    "# #     rows = get_page.find_all('a')\n",
    "# #     # 瞅一眼每个a标签的text都是啥，确认发表时间和来源该用哪个a标签\n",
    "# #     # for z in rows:\n",
    "# #     #     try:\n",
    "# #     #         print(z.text)\n",
    "# #     #     except:\n",
    "# #     #         print('no text')\n",
    "# #     # exit()\n",
    "    \n",
    "    \n",
    "# #     publish_time = rows[6].text\n",
    "# #     append_list.append(publish_time)\n",
    "# #     h3 = get_page.find_all('h3')\n",
    "# #     # h3标签和上文a标签同理\n",
    "# #     # for z in h3:\n",
    "# #     #     try:\n",
    "# #     #         print(z.text)\n",
    "# #     #     except:\n",
    "# #     #         print('no text')\n",
    "#     if get_page.find('span', class_='abstract-text') is None:\n",
    "#         continue\n",
    "        \n",
    "#     author=''\n",
    "#     h3 = get_page.find_all('h3')\n",
    "#     for i in (h3[0].find_all('a')):\n",
    "#         author = author+i.text+';'\n",
    "        \n",
    "#     institute = h3[1].text\n",
    "    \n",
    "#     append_list.append(author[0:-1])\n",
    "#     append_list.append(institute)    \n",
    "    \n",
    "# #     author_institute = h3[0].text + ' ' + h3[1].text\n",
    "# #     append_list.append(author_institute)\n",
    "# #     source = rows[5].text\n",
    "# #     append_list.append(source)\n",
    "# #     if get_page.find('span', class_='abstract-text') is None:\n",
    "# #         continue\n",
    "# #     abstract = get_page.find('span', class_='abstract-text').text\n",
    "# #     append_list.append(abstract)\n",
    "# #     # keywords = get_page.find_all('a', {\"target\": \"_blank\"})\n",
    "# #     # keywords = get_page.find('p', class_='keywords')\n",
    "# #     keywords = get_page.select('p[class=\"keywords\"] > a')\n",
    "# #     # keywords = get_page.body.div[2].div[1].div[3].div.div.div[5].p.text\n",
    "# #     # /html/body/div[2]/div[1]/div[3]/div/div/div[5]/p\n",
    "# #     # print(test)\n",
    "# #     kw_list = ''\n",
    "# #     for word in keywords:\n",
    "# #         kw_list += word.text.strip()\n",
    "# #     append_list.append(kw_list)\n",
    "# #     add = address\n",
    "# #     append_list.append(add)\n",
    "#     sheet.append(append_list)"
   ]
  },
  {
   "cell_type": "code",
   "execution_count": null,
   "id": "75492b8b",
   "metadata": {},
   "outputs": [],
   "source": []
  },
  {
   "cell_type": "code",
   "execution_count": null,
   "id": "d65fb0ee",
   "metadata": {},
   "outputs": [],
   "source": []
  }
 ],
 "metadata": {
  "kernelspec": {
   "display_name": "Python 3 (ipykernel)",
   "language": "python",
   "name": "python3"
  },
  "language_info": {
   "codemirror_mode": {
    "name": "ipython",
    "version": 3
   },
   "file_extension": ".py",
   "mimetype": "text/x-python",
   "name": "python",
   "nbconvert_exporter": "python",
   "pygments_lexer": "ipython3",
   "version": "3.11.3"
  },
  "varInspector": {
   "cols": {
    "lenName": 16,
    "lenType": 16,
    "lenVar": 40
   },
   "kernels_config": {
    "python": {
     "delete_cmd_postfix": "",
     "delete_cmd_prefix": "del ",
     "library": "var_list.py",
     "varRefreshCmd": "print(var_dic_list())"
    },
    "r": {
     "delete_cmd_postfix": ") ",
     "delete_cmd_prefix": "rm(",
     "library": "var_list.r",
     "varRefreshCmd": "cat(var_dic_list()) "
    }
   },
   "types_to_exclude": [
    "module",
    "function",
    "builtin_function_or_method",
    "instance",
    "_Feature"
   ],
   "window_display": false
  }
 },
 "nbformat": 4,
 "nbformat_minor": 5
}
